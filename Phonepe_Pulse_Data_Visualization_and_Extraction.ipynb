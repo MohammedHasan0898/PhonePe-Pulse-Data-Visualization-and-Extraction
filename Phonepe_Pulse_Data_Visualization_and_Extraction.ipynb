{
  "cells": [
    {
      "cell_type": "markdown",
      "metadata": {
        "id": "view-in-github",
        "colab_type": "text"
      },
      "source": [
        "<a href=\"https://colab.research.google.com/github/MohammedHasan0898/PhonePe-Pulse-Data-Visualization-and-Extraction/blob/main/Phonepe_Pulse_Data_Visualization_and_Extraction.ipynb\" target=\"_parent\"><img src=\"https://colab.research.google.com/assets/colab-badge.svg\" alt=\"Open In Colab\"/></a>"
      ]
    },
    {
      "cell_type": "markdown",
      "metadata": {
        "id": "ziumE_Xgf0qh"
      },
      "source": [
        "#Importing Libraries"
      ]
    },
    {
      "cell_type": "code",
      "execution_count": null,
      "metadata": {
        "colab": {
          "base_uri": "https://localhost:8080/"
        },
        "id": "N_2Gh4jbf_oJ",
        "outputId": "73ed5a40-0656-4b20-e6d1-042571f4ad6a"
      },
      "outputs": [
        {
          "output_type": "stream",
          "name": "stdout",
          "text": [
            "Requirement already satisfied: mysql.connector in /usr/local/lib/python3.10/dist-packages (2.2.9)\n",
            "Requirement already satisfied: streamlit in /usr/local/lib/python3.10/dist-packages (1.28.0)\n",
            "Requirement already satisfied: altair<6,>=4.0 in /usr/local/lib/python3.10/dist-packages (from streamlit) (4.2.2)\n",
            "Requirement already satisfied: blinker<2,>=1.0.0 in /usr/lib/python3/dist-packages (from streamlit) (1.4)\n",
            "Requirement already satisfied: cachetools<6,>=4.0 in /usr/local/lib/python3.10/dist-packages (from streamlit) (5.3.2)\n",
            "Requirement already satisfied: click<9,>=7.0 in /usr/local/lib/python3.10/dist-packages (from streamlit) (8.1.7)\n",
            "Requirement already satisfied: importlib-metadata<7,>=1.4 in /usr/local/lib/python3.10/dist-packages (from streamlit) (6.8.0)\n",
            "Requirement already satisfied: numpy<2,>=1.19.3 in /usr/local/lib/python3.10/dist-packages (from streamlit) (1.23.5)\n",
            "Requirement already satisfied: packaging<24,>=16.8 in /usr/local/lib/python3.10/dist-packages (from streamlit) (23.2)\n",
            "Requirement already satisfied: pandas<3,>=1.3.0 in /usr/local/lib/python3.10/dist-packages (from streamlit) (1.5.3)\n",
            "Requirement already satisfied: pillow<11,>=7.1.0 in /usr/local/lib/python3.10/dist-packages (from streamlit) (9.4.0)\n",
            "Requirement already satisfied: protobuf<5,>=3.20 in /usr/local/lib/python3.10/dist-packages (from streamlit) (3.20.3)\n",
            "Requirement already satisfied: pyarrow>=6.0 in /usr/local/lib/python3.10/dist-packages (from streamlit) (9.0.0)\n",
            "Requirement already satisfied: python-dateutil<3,>=2.7.3 in /usr/local/lib/python3.10/dist-packages (from streamlit) (2.8.2)\n",
            "Requirement already satisfied: requests<3,>=2.27 in /usr/local/lib/python3.10/dist-packages (from streamlit) (2.31.0)\n",
            "Requirement already satisfied: rich<14,>=10.14.0 in /usr/local/lib/python3.10/dist-packages (from streamlit) (13.6.0)\n",
            "Requirement already satisfied: tenacity<9,>=8.1.0 in /usr/local/lib/python3.10/dist-packages (from streamlit) (8.2.3)\n",
            "Requirement already satisfied: toml<2,>=0.10.1 in /usr/local/lib/python3.10/dist-packages (from streamlit) (0.10.2)\n",
            "Requirement already satisfied: typing-extensions<5,>=4.3.0 in /usr/local/lib/python3.10/dist-packages (from streamlit) (4.5.0)\n",
            "Requirement already satisfied: tzlocal<6,>=1.1 in /usr/local/lib/python3.10/dist-packages (from streamlit) (5.2)\n",
            "Requirement already satisfied: validators<1,>=0.2 in /usr/local/lib/python3.10/dist-packages (from streamlit) (0.22.0)\n",
            "Requirement already satisfied: gitpython!=3.1.19,<4,>=3.0.7 in /usr/local/lib/python3.10/dist-packages (from streamlit) (3.1.40)\n",
            "Requirement already satisfied: pydeck<1,>=0.8.0b4 in /usr/local/lib/python3.10/dist-packages (from streamlit) (0.8.1b0)\n",
            "Requirement already satisfied: tornado<7,>=6.0.3 in /usr/local/lib/python3.10/dist-packages (from streamlit) (6.3.2)\n",
            "Requirement already satisfied: watchdog>=2.1.5 in /usr/local/lib/python3.10/dist-packages (from streamlit) (3.0.0)\n",
            "Requirement already satisfied: entrypoints in /usr/local/lib/python3.10/dist-packages (from altair<6,>=4.0->streamlit) (0.4)\n",
            "Requirement already satisfied: jinja2 in /usr/local/lib/python3.10/dist-packages (from altair<6,>=4.0->streamlit) (3.1.2)\n",
            "Requirement already satisfied: jsonschema>=3.0 in /usr/local/lib/python3.10/dist-packages (from altair<6,>=4.0->streamlit) (4.19.1)\n",
            "Requirement already satisfied: toolz in /usr/local/lib/python3.10/dist-packages (from altair<6,>=4.0->streamlit) (0.12.0)\n",
            "Requirement already satisfied: gitdb<5,>=4.0.1 in /usr/local/lib/python3.10/dist-packages (from gitpython!=3.1.19,<4,>=3.0.7->streamlit) (4.0.11)\n",
            "Requirement already satisfied: zipp>=0.5 in /usr/local/lib/python3.10/dist-packages (from importlib-metadata<7,>=1.4->streamlit) (3.17.0)\n",
            "Requirement already satisfied: pytz>=2020.1 in /usr/local/lib/python3.10/dist-packages (from pandas<3,>=1.3.0->streamlit) (2023.3.post1)\n",
            "Requirement already satisfied: six>=1.5 in /usr/local/lib/python3.10/dist-packages (from python-dateutil<3,>=2.7.3->streamlit) (1.16.0)\n",
            "Requirement already satisfied: charset-normalizer<4,>=2 in /usr/local/lib/python3.10/dist-packages (from requests<3,>=2.27->streamlit) (3.3.1)\n",
            "Requirement already satisfied: idna<4,>=2.5 in /usr/local/lib/python3.10/dist-packages (from requests<3,>=2.27->streamlit) (3.4)\n",
            "Requirement already satisfied: urllib3<3,>=1.21.1 in /usr/local/lib/python3.10/dist-packages (from requests<3,>=2.27->streamlit) (2.0.7)\n",
            "Requirement already satisfied: certifi>=2017.4.17 in /usr/local/lib/python3.10/dist-packages (from requests<3,>=2.27->streamlit) (2023.7.22)\n",
            "Requirement already satisfied: markdown-it-py>=2.2.0 in /usr/local/lib/python3.10/dist-packages (from rich<14,>=10.14.0->streamlit) (3.0.0)\n",
            "Requirement already satisfied: pygments<3.0.0,>=2.13.0 in /usr/local/lib/python3.10/dist-packages (from rich<14,>=10.14.0->streamlit) (2.16.1)\n",
            "Requirement already satisfied: smmap<6,>=3.0.1 in /usr/local/lib/python3.10/dist-packages (from gitdb<5,>=4.0.1->gitpython!=3.1.19,<4,>=3.0.7->streamlit) (5.0.1)\n",
            "Requirement already satisfied: MarkupSafe>=2.0 in /usr/local/lib/python3.10/dist-packages (from jinja2->altair<6,>=4.0->streamlit) (2.1.3)\n",
            "Requirement already satisfied: attrs>=22.2.0 in /usr/local/lib/python3.10/dist-packages (from jsonschema>=3.0->altair<6,>=4.0->streamlit) (23.1.0)\n",
            "Requirement already satisfied: jsonschema-specifications>=2023.03.6 in /usr/local/lib/python3.10/dist-packages (from jsonschema>=3.0->altair<6,>=4.0->streamlit) (2023.7.1)\n",
            "Requirement already satisfied: referencing>=0.28.4 in /usr/local/lib/python3.10/dist-packages (from jsonschema>=3.0->altair<6,>=4.0->streamlit) (0.30.2)\n",
            "Requirement already satisfied: rpds-py>=0.7.1 in /usr/local/lib/python3.10/dist-packages (from jsonschema>=3.0->altair<6,>=4.0->streamlit) (0.10.6)\n",
            "Requirement already satisfied: mdurl~=0.1 in /usr/local/lib/python3.10/dist-packages (from markdown-it-py>=2.2.0->rich<14,>=10.14.0->streamlit) (0.1.2)\n",
            "Requirement already satisfied: streamlit_option_menu in /usr/local/lib/python3.10/dist-packages (0.3.6)\n",
            "Requirement already satisfied: streamlit>=0.63 in /usr/local/lib/python3.10/dist-packages (from streamlit_option_menu) (1.28.0)\n",
            "Requirement already satisfied: altair<6,>=4.0 in /usr/local/lib/python3.10/dist-packages (from streamlit>=0.63->streamlit_option_menu) (4.2.2)\n",
            "Requirement already satisfied: blinker<2,>=1.0.0 in /usr/lib/python3/dist-packages (from streamlit>=0.63->streamlit_option_menu) (1.4)\n",
            "Requirement already satisfied: cachetools<6,>=4.0 in /usr/local/lib/python3.10/dist-packages (from streamlit>=0.63->streamlit_option_menu) (5.3.2)\n",
            "Requirement already satisfied: click<9,>=7.0 in /usr/local/lib/python3.10/dist-packages (from streamlit>=0.63->streamlit_option_menu) (8.1.7)\n",
            "Requirement already satisfied: importlib-metadata<7,>=1.4 in /usr/local/lib/python3.10/dist-packages (from streamlit>=0.63->streamlit_option_menu) (6.8.0)\n",
            "Requirement already satisfied: numpy<2,>=1.19.3 in /usr/local/lib/python3.10/dist-packages (from streamlit>=0.63->streamlit_option_menu) (1.23.5)\n",
            "Requirement already satisfied: packaging<24,>=16.8 in /usr/local/lib/python3.10/dist-packages (from streamlit>=0.63->streamlit_option_menu) (23.2)\n",
            "Requirement already satisfied: pandas<3,>=1.3.0 in /usr/local/lib/python3.10/dist-packages (from streamlit>=0.63->streamlit_option_menu) (1.5.3)\n",
            "Requirement already satisfied: pillow<11,>=7.1.0 in /usr/local/lib/python3.10/dist-packages (from streamlit>=0.63->streamlit_option_menu) (9.4.0)\n",
            "Requirement already satisfied: protobuf<5,>=3.20 in /usr/local/lib/python3.10/dist-packages (from streamlit>=0.63->streamlit_option_menu) (3.20.3)\n",
            "Requirement already satisfied: pyarrow>=6.0 in /usr/local/lib/python3.10/dist-packages (from streamlit>=0.63->streamlit_option_menu) (9.0.0)\n",
            "Requirement already satisfied: python-dateutil<3,>=2.7.3 in /usr/local/lib/python3.10/dist-packages (from streamlit>=0.63->streamlit_option_menu) (2.8.2)\n",
            "Requirement already satisfied: requests<3,>=2.27 in /usr/local/lib/python3.10/dist-packages (from streamlit>=0.63->streamlit_option_menu) (2.31.0)\n",
            "Requirement already satisfied: rich<14,>=10.14.0 in /usr/local/lib/python3.10/dist-packages (from streamlit>=0.63->streamlit_option_menu) (13.6.0)\n",
            "Requirement already satisfied: tenacity<9,>=8.1.0 in /usr/local/lib/python3.10/dist-packages (from streamlit>=0.63->streamlit_option_menu) (8.2.3)\n",
            "Requirement already satisfied: toml<2,>=0.10.1 in /usr/local/lib/python3.10/dist-packages (from streamlit>=0.63->streamlit_option_menu) (0.10.2)\n",
            "Requirement already satisfied: typing-extensions<5,>=4.3.0 in /usr/local/lib/python3.10/dist-packages (from streamlit>=0.63->streamlit_option_menu) (4.5.0)\n",
            "Requirement already satisfied: tzlocal<6,>=1.1 in /usr/local/lib/python3.10/dist-packages (from streamlit>=0.63->streamlit_option_menu) (5.2)\n",
            "Requirement already satisfied: validators<1,>=0.2 in /usr/local/lib/python3.10/dist-packages (from streamlit>=0.63->streamlit_option_menu) (0.22.0)\n",
            "Requirement already satisfied: gitpython!=3.1.19,<4,>=3.0.7 in /usr/local/lib/python3.10/dist-packages (from streamlit>=0.63->streamlit_option_menu) (3.1.40)\n",
            "Requirement already satisfied: pydeck<1,>=0.8.0b4 in /usr/local/lib/python3.10/dist-packages (from streamlit>=0.63->streamlit_option_menu) (0.8.1b0)\n",
            "Requirement already satisfied: tornado<7,>=6.0.3 in /usr/local/lib/python3.10/dist-packages (from streamlit>=0.63->streamlit_option_menu) (6.3.2)\n",
            "Requirement already satisfied: watchdog>=2.1.5 in /usr/local/lib/python3.10/dist-packages (from streamlit>=0.63->streamlit_option_menu) (3.0.0)\n",
            "Requirement already satisfied: entrypoints in /usr/local/lib/python3.10/dist-packages (from altair<6,>=4.0->streamlit>=0.63->streamlit_option_menu) (0.4)\n",
            "Requirement already satisfied: jinja2 in /usr/local/lib/python3.10/dist-packages (from altair<6,>=4.0->streamlit>=0.63->streamlit_option_menu) (3.1.2)\n",
            "Requirement already satisfied: jsonschema>=3.0 in /usr/local/lib/python3.10/dist-packages (from altair<6,>=4.0->streamlit>=0.63->streamlit_option_menu) (4.19.1)\n",
            "Requirement already satisfied: toolz in /usr/local/lib/python3.10/dist-packages (from altair<6,>=4.0->streamlit>=0.63->streamlit_option_menu) (0.12.0)\n",
            "Requirement already satisfied: gitdb<5,>=4.0.1 in /usr/local/lib/python3.10/dist-packages (from gitpython!=3.1.19,<4,>=3.0.7->streamlit>=0.63->streamlit_option_menu) (4.0.11)\n",
            "Requirement already satisfied: zipp>=0.5 in /usr/local/lib/python3.10/dist-packages (from importlib-metadata<7,>=1.4->streamlit>=0.63->streamlit_option_menu) (3.17.0)\n",
            "Requirement already satisfied: pytz>=2020.1 in /usr/local/lib/python3.10/dist-packages (from pandas<3,>=1.3.0->streamlit>=0.63->streamlit_option_menu) (2023.3.post1)\n",
            "Requirement already satisfied: six>=1.5 in /usr/local/lib/python3.10/dist-packages (from python-dateutil<3,>=2.7.3->streamlit>=0.63->streamlit_option_menu) (1.16.0)\n",
            "Requirement already satisfied: charset-normalizer<4,>=2 in /usr/local/lib/python3.10/dist-packages (from requests<3,>=2.27->streamlit>=0.63->streamlit_option_menu) (3.3.1)\n",
            "Requirement already satisfied: idna<4,>=2.5 in /usr/local/lib/python3.10/dist-packages (from requests<3,>=2.27->streamlit>=0.63->streamlit_option_menu) (3.4)\n",
            "Requirement already satisfied: urllib3<3,>=1.21.1 in /usr/local/lib/python3.10/dist-packages (from requests<3,>=2.27->streamlit>=0.63->streamlit_option_menu) (2.0.7)\n",
            "Requirement already satisfied: certifi>=2017.4.17 in /usr/local/lib/python3.10/dist-packages (from requests<3,>=2.27->streamlit>=0.63->streamlit_option_menu) (2023.7.22)\n",
            "Requirement already satisfied: markdown-it-py>=2.2.0 in /usr/local/lib/python3.10/dist-packages (from rich<14,>=10.14.0->streamlit>=0.63->streamlit_option_menu) (3.0.0)\n",
            "Requirement already satisfied: pygments<3.0.0,>=2.13.0 in /usr/local/lib/python3.10/dist-packages (from rich<14,>=10.14.0->streamlit>=0.63->streamlit_option_menu) (2.16.1)\n",
            "Requirement already satisfied: smmap<6,>=3.0.1 in /usr/local/lib/python3.10/dist-packages (from gitdb<5,>=4.0.1->gitpython!=3.1.19,<4,>=3.0.7->streamlit>=0.63->streamlit_option_menu) (5.0.1)\n",
            "Requirement already satisfied: MarkupSafe>=2.0 in /usr/local/lib/python3.10/dist-packages (from jinja2->altair<6,>=4.0->streamlit>=0.63->streamlit_option_menu) (2.1.3)\n",
            "Requirement already satisfied: attrs>=22.2.0 in /usr/local/lib/python3.10/dist-packages (from jsonschema>=3.0->altair<6,>=4.0->streamlit>=0.63->streamlit_option_menu) (23.1.0)\n",
            "Requirement already satisfied: jsonschema-specifications>=2023.03.6 in /usr/local/lib/python3.10/dist-packages (from jsonschema>=3.0->altair<6,>=4.0->streamlit>=0.63->streamlit_option_menu) (2023.7.1)\n",
            "Requirement already satisfied: referencing>=0.28.4 in /usr/local/lib/python3.10/dist-packages (from jsonschema>=3.0->altair<6,>=4.0->streamlit>=0.63->streamlit_option_menu) (0.30.2)\n",
            "Requirement already satisfied: rpds-py>=0.7.1 in /usr/local/lib/python3.10/dist-packages (from jsonschema>=3.0->altair<6,>=4.0->streamlit>=0.63->streamlit_option_menu) (0.10.6)\n",
            "Requirement already satisfied: mdurl~=0.1 in /usr/local/lib/python3.10/dist-packages (from markdown-it-py>=2.2.0->rich<14,>=10.14.0->streamlit>=0.63->streamlit_option_menu) (0.1.2)\n"
          ]
        }
      ],
      "source": [
        "import pandas as pd\n",
        "!pip install mysql.connector\n",
        "import mysql.connector as sql\n",
        "!pip install streamlit\n",
        "import streamlit as st\n",
        "import plotly.express as px\n",
        "import os\n",
        "import json\n",
        "!pip install streamlit_option_menu\n",
        "from streamlit_option_menu import option_menu\n",
        "from PIL import Image"
      ]
    },
    {
      "cell_type": "markdown",
      "metadata": {
        "id": "2yznlcAag-mB"
      },
      "source": [
        "## Cloning data from github"
      ]
    },
    {
      "cell_type": "code",
      "execution_count": null,
      "metadata": {
        "colab": {
          "base_uri": "https://localhost:8080/"
        },
        "id": "Xw2aII3-lmQL",
        "outputId": "3095252f-8a0b-49ee-e5b9-b43f095edaca"
      },
      "outputs": [
        {
          "output_type": "execute_result",
          "data": {
            "text/plain": [
              "<git.repo.base.Repo '/content/C:/Users/admin/Hasan/data/.git'>"
            ]
          },
          "metadata": {},
          "execution_count": 11
        }
      ],
      "source": [
        "# @title\n",
        "os.environ[\"GIT_PYTHON_REFRESH\"] = \"quiet\"\n",
        "import git\n",
        "from git.repo.base import Repo\n",
        "Repo.clone_from(\"https://github.com/PhonePe/pulse.git\", \"C:/Users/admin/Hasan/data/\")"
      ]
    },
    {
      "cell_type": "markdown",
      "metadata": {
        "id": "KLe7htwAhNjp"
      },
      "source": [
        "# **DATA TRANSFORMATION**"
      ]
    },
    {
      "cell_type": "markdown",
      "metadata": {
        "id": "7aQWgnVmhTah"
      },
      "source": [
        "## Dataframe of aggregated transactions"
      ]
    },
    {
      "cell_type": "code",
      "execution_count": null,
      "metadata": {
        "id": "zQl5Y6aGhpxq",
        "collapsed": true
      },
      "outputs": [],
      "source": [
        "import os\n",
        "path1 = \"/C:/Users/admin/Hasan/data/aggregated/transactions/country/india/state/\"\n",
        "agg_trans_list = os.listdir(path1)\n",
        "\n",
        "\n",
        "columns1 = {'State': [], 'Year': [], 'Quarter': [], 'Transaction_type': [], 'Transaction_count': [],\n",
        "            'Transaction_amount': []}\n",
        "for state in agg_trans_list:\n",
        "    cur_state = path1 + state + \"/\"\n",
        "    agg_year_list = os.listdir(cur_state)\n",
        "\n",
        "    for year in agg_year_list:\n",
        "        cur_year = cur_state + year + \"/\"\n",
        "        agg_file_list = os.listdir(cur_year)\n",
        "\n",
        "        for file in agg_file_list:\n",
        "            cur_file = cur_year + file\n",
        "            data = open(cur_file, 'r')\n",
        "            A = json.load(data)\n",
        "\n",
        "            for i in A['data']['transactionData']:\n",
        "                name = i['name']\n",
        "                count = i['paymentInstruments'][0]['count']\n",
        "                amount = i['paymentInstruments'][0]['amount']\n",
        "                columns1['Transaction_type'].append(name)\n",
        "                columns1['Transaction_count'].append(count)\n",
        "                columns1['Transaction_amount'].append(amount)\n",
        "                columns1['State'].append(state)\n",
        "                columns1['Year'].append(year)\n",
        "                columns1['Quarter'].append(int(file.strip('.json')))\n",
        "\n",
        "df_agg_trans = pd.DataFrame(columns1)"
      ]
    },
    {
      "cell_type": "code",
      "execution_count": null,
      "metadata": {
        "id": "qaAXwIdHnbb1"
      },
      "outputs": [],
      "source": [
        "df_agg_trans.shape"
      ]
    },
    {
      "cell_type": "markdown",
      "metadata": {
        "id": "jR4YqnLfnnSD"
      },
      "source": [
        "## Dataframe of aggregated user"
      ]
    },
    {
      "cell_type": "code",
      "execution_count": null,
      "metadata": {
        "id": "5DuHlYpUnslg"
      },
      "outputs": [],
      "source": [
        "path2 = \"C:/Users/admin/Hasan/data/aggregated/user/country/india/state/\"\n",
        "\n",
        "agg_user_list = os.listdir(path2)\n",
        "\n",
        "columns2 = {'State': [], 'Year': [], 'Quarter': [], 'Brands': [], 'Count': [],\n",
        "            'Percentage': []}\n",
        "for state in agg_user_list:\n",
        "    cur_state = path2 + state + \"/\"\n",
        "    agg_year_list = os.listdir(cur_state)\n",
        "\n",
        "    for year in agg_year_list:\n",
        "        cur_year = cur_state + year + \"/\"\n",
        "        agg_file_list = os.listdir(cur_year)\n",
        "\n",
        "        for file in agg_file_list:\n",
        "            cur_file = cur_year + file\n",
        "            data = open(cur_file, 'r')\n",
        "            B = json.load(data)\n",
        "            try:\n",
        "                for i in B[\"data\"][\"usersByDevice\"]:\n",
        "                    brand_name = i[\"brand\"]\n",
        "                    counts = i[\"count\"]\n",
        "                    percents = i[\"percentage\"]\n",
        "                    columns2[\"Brands\"].append(brand_name)\n",
        "                    columns2[\"Count\"].append(counts)\n",
        "                    columns2[\"Percentage\"].append(percents)\n",
        "                    columns2[\"State\"].append(state)\n",
        "                    columns2[\"Year\"].append(year)\n",
        "                    columns2[\"Quarter\"].append(int(file.strip('.json')))\n",
        "            except:\n",
        "                pass\n",
        "df_agg_user = pd.DataFrame(columns2)"
      ]
    },
    {
      "cell_type": "code",
      "execution_count": null,
      "metadata": {
        "id": "ixbH64ban69k"
      },
      "outputs": [],
      "source": [
        "df_agg_user"
      ]
    },
    {
      "cell_type": "markdown",
      "metadata": {
        "id": "7wMi2CtioAKU"
      },
      "source": [
        "## Dataframe of map transactions"
      ]
    },
    {
      "cell_type": "code",
      "execution_count": null,
      "metadata": {
        "id": "8EIdKRjdoFVc"
      },
      "outputs": [],
      "source": [
        "path3 = \"C:/Users/admin/Phonepe_Pulse/data/map/transaction/hover/country/india/state/\"\n",
        "\n",
        "map_trans_list = os.listdir(path3)\n",
        "\n",
        "columns3 = {'State': [], 'Year': [], 'Quarter': [], 'District': [], 'Count': [],\n",
        "            'Amount': []}\n",
        "\n",
        "for state in map_trans_list:\n",
        "    cur_state = path3 + state + \"/\"\n",
        "    map_year_list = os.listdir(cur_state)\n",
        "\n",
        "    for year in map_year_list:\n",
        "        cur_year = cur_state + year + \"/\"\n",
        "        map_file_list = os.listdir(cur_year)\n",
        "\n",
        "        for file in map_file_list:\n",
        "            cur_file = cur_year + file\n",
        "            data = open(cur_file, 'r')\n",
        "            C = json.load(data)\n",
        "\n",
        "            for i in C[\"data\"][\"hoverDataList\"]:\n",
        "                district = i[\"name\"]\n",
        "                count = i[\"metric\"][0][\"count\"]\n",
        "                amount = i[\"metric\"][0][\"amount\"]\n",
        "                columns3[\"District\"].append(district)\n",
        "                columns3[\"Count\"].append(count)\n",
        "                columns3[\"Amount\"].append(amount)\n",
        "                columns3['State'].append(state)\n",
        "                columns3['Year'].append(year)\n",
        "                columns3['Quarter'].append(int(file.strip('.json')))\n",
        "\n",
        "df_map_trans = pd.DataFrame(columns3)"
      ]
    },
    {
      "cell_type": "code",
      "execution_count": null,
      "metadata": {
        "id": "AH9MfnlZoaqO"
      },
      "outputs": [],
      "source": [
        "df_map_trans"
      ]
    },
    {
      "cell_type": "markdown",
      "metadata": {
        "id": "3lBZ5WO1odcc"
      },
      "source": [
        "## Dataframe of map user"
      ]
    },
    {
      "cell_type": "code",
      "execution_count": null,
      "metadata": {
        "id": "iIbrTit8oiM1"
      },
      "outputs": [],
      "source": [
        "path4 = \"C:/Users/admin/Phonepe_Pulse/data/map/user/hover/country/india/state/\"\n",
        "\n",
        "map_user_list = os.listdir(path4)\n",
        "\n",
        "columns4 = {\"State\": [], \"Year\": [], \"Quarter\": [], \"District\": [],\n",
        "            \"RegisteredUser\": [], \"AppOpens\": []}\n",
        "\n",
        "for state in map_user_list:\n",
        "    cur_state = path4 + state + \"/\"\n",
        "    map_year_list = os.listdir(cur_state)\n",
        "\n",
        "    for year in map_year_list:\n",
        "        cur_year = cur_state + year + \"/\"\n",
        "        map_file_list = os.listdir(cur_year)\n",
        "\n",
        "        for file in map_file_list:\n",
        "            cur_file = cur_year + file\n",
        "            data = open(cur_file, 'r')\n",
        "            D = json.load(data)\n",
        "\n",
        "            for i in D[\"data\"][\"hoverData\"].items():\n",
        "                district = i[0]\n",
        "                registereduser = i[1][\"registeredUsers\"]\n",
        "                appOpens = i[1]['appOpens']\n",
        "                columns4[\"District\"].append(district)\n",
        "                columns4[\"RegisteredUser\"].append(registereduser)\n",
        "                columns4[\"AppOpens\"].append(appOpens)\n",
        "                columns4['State'].append(state)\n",
        "                columns4['Year'].append(year)\n",
        "                columns4['Quarter'].append(int(file.strip('.json')))\n",
        "\n",
        "df_map_user = pd.DataFrame(columns4)"
      ]
    },
    {
      "cell_type": "code",
      "execution_count": null,
      "metadata": {
        "id": "KSJRRSDMowb1"
      },
      "outputs": [],
      "source": [
        "df_map_user"
      ]
    },
    {
      "cell_type": "markdown",
      "metadata": {
        "id": "MxRziXJWo27H"
      },
      "source": [
        "## Dataframe of Top transactions"
      ]
    },
    {
      "cell_type": "code",
      "execution_count": null,
      "metadata": {
        "id": "K7kbn58Ko7dN"
      },
      "outputs": [],
      "source": [
        "path5 = \"C:/Users/admin/Phonepe_Pulse/data/top/transaction/country/india/state/\"\n",
        "\n",
        "top_trans_list = os.listdir(path5)\n",
        "columns5 = {'State': [], 'Year': [], 'Quarter': [], 'Pincode': [], 'Transaction_count': [],\n",
        "            'Transaction_amount': []}\n",
        "\n",
        "for state in top_trans_list:\n",
        "    cur_state = path5 + state + \"/\"\n",
        "    top_year_list = os.listdir(cur_state)\n",
        "\n",
        "    for year in top_year_list:\n",
        "        cur_year = cur_state + year + \"/\"\n",
        "        top_file_list = os.listdir(cur_year)\n",
        "\n",
        "        for file in top_file_list:\n",
        "            cur_file = cur_year + file\n",
        "            data = open(cur_file, 'r')\n",
        "            E = json.load(data)\n",
        "\n",
        "            for i in E['data']['pincodes']:\n",
        "                name = i['entityName']\n",
        "                count = i['metric']['count']\n",
        "                amount = i['metric']['amount']\n",
        "                columns5['Pincode'].append(name)\n",
        "                columns5['Transaction_count'].append(count)\n",
        "                columns5['Transaction_amount'].append(amount)\n",
        "                columns5['State'].append(state)\n",
        "                columns5['Year'].append(year)\n",
        "                columns5['Quarter'].append(int(file.strip('.json')))\n",
        "df_top_trans = pd.DataFrame(columns5)"
      ]
    },
    {
      "cell_type": "code",
      "execution_count": null,
      "metadata": {
        "id": "WN1B07XMpHzM"
      },
      "outputs": [],
      "source": [
        "df_top_trans"
      ]
    },
    {
      "cell_type": "markdown",
      "metadata": {
        "id": "TAUGNnNkpdBl"
      },
      "source": [
        "## Dataframe of Top Users"
      ]
    },
    {
      "cell_type": "code",
      "execution_count": null,
      "metadata": {
        "id": "T_CKG-Cnpg9q"
      },
      "outputs": [],
      "source": [
        "path6 = \"C:/Users/admin/Phonepe_Pulse/data/top/user/country/india/state/\"\n",
        "top_user_list = os.listdir(path6)\n",
        "columns6 = {'State': [], 'Year': [], 'Quarter': [], 'Pincode': [],\n",
        "            'RegisteredUsers': []}\n",
        "\n",
        "for state in top_user_list:\n",
        "    cur_state = path6 + state + \"/\"\n",
        "    top_year_list = os.listdir(cur_state)\n",
        "\n",
        "    for year in top_year_list:\n",
        "        cur_year = cur_state + year + \"/\"\n",
        "        top_file_list = os.listdir(cur_year)\n",
        "\n",
        "        for file in top_file_list:\n",
        "            cur_file = cur_year + file\n",
        "            data = open(cur_file, 'r')\n",
        "            F = json.load(data)\n",
        "\n",
        "            for i in F['data']['pincodes']:\n",
        "                name = i['name']\n",
        "                registeredUsers = i['registeredUsers']\n",
        "                columns6['Pincode'].append(name)\n",
        "                columns6['RegisteredUsers'].append(registeredUsers)\n",
        "                columns6['State'].append(state)\n",
        "                columns6['Year'].append(year)\n",
        "                columns6['Quarter'].append(int(file.strip('.json')))\n",
        "df_top_user = pd.DataFrame(columns6)"
      ]
    },
    {
      "cell_type": "code",
      "execution_count": null,
      "metadata": {
        "id": "6CSdTmPppsa1"
      },
      "outputs": [],
      "source": [
        "df_top_user"
      ]
    },
    {
      "cell_type": "markdown",
      "metadata": {
        "id": "UaXgVtJup40U"
      },
      "source": [
        "## Converting Dataframes to CSV files"
      ]
    },
    {
      "cell_type": "code",
      "execution_count": null,
      "metadata": {
        "id": "GHz8Yl4Gp7KM"
      },
      "outputs": [],
      "source": [
        "df_agg_trans.to_csv('agg_trans.csv',index=False)\n",
        "df_agg_user.to_csv('agg_user.csv',index=False)\n",
        "df_map_trans.to_csv('map_trans.csv',index=False)\n",
        "df_map_user.to_csv('map_user.csv',index=False)\n",
        "df_top_trans.to_csv('top_trans.csv',index=False)\n",
        "df_top_user.to_csv('top_user.csv',index=False)"
      ]
    },
    {
      "cell_type": "code",
      "execution_count": null,
      "metadata": {
        "id": "MsZ9t-dBdBbL"
      },
      "outputs": [],
      "source": [
        "import sqlite3"
      ]
    },
    {
      "cell_type": "code",
      "execution_count": null,
      "metadata": {
        "id": "o-dmmB9-dG7m"
      },
      "outputs": [],
      "source": [
        "conn = sqlite3.connect('Phonepe_pulse.db')\n",
        "cursor = conn.cursor()"
      ]
    },
    {
      "cell_type": "code",
      "execution_count": null,
      "metadata": {
        "id": "KBigL2BAdK21"
      },
      "outputs": [],
      "source": [
        "cursor.execute(\"\"\"\n",
        "CREATE TABLE agg_transaction(\n",
        "    id INTEGER PRIMARY KEY,\n",
        "    State VARCHAR(255),\n",
        "    Year INT,\n",
        "    Quarter INT,\n",
        "    Transaction_type TEXT,\n",
        "    Transaction_count INTEGER,\n",
        "    Transaction_amount INT\n",
        ");\n",
        "\"\"\")\n"
      ]
    },
    {
      "cell_type": "code",
      "execution_count": null,
      "metadata": {
        "id": "OexZquildP4A"
      },
      "outputs": [],
      "source": [
        "# Load the data into a DataFrame\n",
        "df = pd.read_csv(\"agg_trans.csv\")\n",
        "\n",
        "# Insert the data from the DataFrame into the database\n",
        "df.to_sql(\"agg_transaction\", conn, if_exists=\"replace\", index=False)\n",
        "\n",
        "# Commit the changes\n",
        "conn.commit()"
      ]
    },
    {
      "cell_type": "code",
      "execution_count": null,
      "metadata": {
        "id": "3WXduvLJdiPi"
      },
      "outputs": [],
      "source": [
        "cursor.execute(\"\"\"\n",
        "CREATE TABLE agg_user(\n",
        "    id INTEGER PRIMARY KEY,\n",
        "    State VARCHAR(255),\n",
        "    Year INT,\n",
        "    Quarter INT,\n",
        "    Brand TEXT,\n",
        "    Count INTEGER,\n",
        "    Percentage FLOAT\n",
        ");\n",
        "\"\"\")"
      ]
    },
    {
      "cell_type": "code",
      "execution_count": null,
      "metadata": {
        "id": "2uu2CD26dkOA"
      },
      "outputs": [],
      "source": [
        "# Load the data into a DataFrame\n",
        "df = pd.read_csv(\"agg_user.csv\")\n",
        "\n",
        "# Insert the data from the DataFrame into the database\n",
        "df.to_sql(\"agg_user\", conn, if_exists=\"replace\", index=False)\n",
        "\n",
        "# Commit the changes\n",
        "conn.commit()\n"
      ]
    },
    {
      "cell_type": "code",
      "execution_count": null,
      "metadata": {
        "id": "oYmWyn5jdpVM"
      },
      "outputs": [],
      "source": [
        "cursor.execute(\"\"\"\n",
        "CREATE TABLE map_transaction(\n",
        "    id INTEGER PRIMARY KEY,\n",
        "    State VARCHAR(255),\n",
        "    Year INT,\n",
        "    Quarter INT,\n",
        "    District TEXT,\n",
        "    Count INTEGER,\n",
        "    Amount INT\n",
        ");\n",
        "\"\"\")"
      ]
    },
    {
      "cell_type": "code",
      "execution_count": null,
      "metadata": {
        "id": "9ktAhRCtduCA"
      },
      "outputs": [],
      "source": [
        "# Load the data into a DataFrame\n",
        "df = pd.read_csv(\"map_trans.csv\")\n",
        "\n",
        "# Insert the data from the DataFrame into the database\n",
        "df.to_sql(\"map_transaction\", conn, if_exists=\"replace\", index=False)\n",
        "\n",
        "# Commit the changes\n",
        "conn.commit()"
      ]
    },
    {
      "cell_type": "code",
      "execution_count": null,
      "metadata": {
        "id": "KaR7RraUd0zf"
      },
      "outputs": [],
      "source": [
        "# Execute the query to create the filter view\n",
        "cursor.execute(\"SELECT State, Quarter, SUM(Transaction_amount) as Total_Transaction_amount FROM agg_transaction GROUP BY State, Quarter\")\n",
        "\n",
        "# Fetch the filtered rows\n",
        "filtered_rows = cursor.fetchall()\n",
        "\n",
        "# Create a DataFrame from the filtered rows\n",
        "df = pd.DataFrame(filtered_rows, columns=[\"State\", \"Quarter\", \"Transaction_amount\"])\n",
        "\n",
        "conn.commit()\n",
        "\n",
        "# Create a dropdown menu using Streamlit\n",
        "state = st.selectbox(\"Select State\", df[\"State\"].unique())\n",
        "\n",
        "# Filter the DataFrame based on the selected state\n",
        "df = df[df[\"State\"] == state]\n",
        "\n",
        "# Create a bar chart using Plotly Express\n",
        "fig = px.bar(df, x=\"Quarter\", y=\"Transaction_amount\", color=\"State\")\n",
        "\n",
        "# Display the bar chart using Streamlit\n",
        "st.plotly_chart(fig)\n"
      ]
    }
  ],
  "metadata": {
    "colab": {
      "provenance": [],
      "authorship_tag": "ABX9TyM7dk8poiN6d5x1D4Cx1fJm",
      "include_colab_link": true
    },
    "kernelspec": {
      "display_name": "Python 3",
      "name": "python3"
    },
    "language_info": {
      "name": "python"
    }
  },
  "nbformat": 4,
  "nbformat_minor": 0
}